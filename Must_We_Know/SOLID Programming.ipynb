{
 "cells": [
  {
   "cell_type": "markdown",
   "metadata": {},
   "source": [
    "![Alt text](pictures/SOLID.png)"
   ]
  },
  {
   "cell_type": "markdown",
   "metadata": {},
   "source": [
    "# SOLID Principles"
   ]
  },
  {
   "cell_type": "markdown",
   "metadata": {},
   "source": [
    "In this guide, we will delve into the SOLID principles, a set of five design principles that guide software design and development. These principles, introduced by Robert C. Martin, a renowned figure in the software development world, are fundamental to achieving good software design. We'll learn how to apply these principles to improve Python code, making it more organized, maintainable, and robust."
   ]
  },
  {
   "cell_type": "markdown",
   "metadata": {},
   "source": [
    "## Introduction to SOLID Principles"
   ]
  },
  {
   "cell_type": "markdown",
   "metadata": {},
   "source": [
    "SOLID is a mnemonic acronym for five design principles intended to make object-oriented designs more understandable, flexible, and maintainable. The principles are:\n",
    "\n",
    "1. Single Responsibility Principle (SRP)\n",
    "2. Open/Closed Principle (OCP)\n",
    "3. Liskov Substitution Principle (LSP)\n",
    "4. Interface Segregation Principle (ISP)\n",
    "5. Dependency Inversion Principle (DIP)\n",
    "\n",
    "\n",
    "Let's explore each principle in detail:"
   ]
  },
  {
   "cell_type": "markdown",
   "metadata": {},
   "source": [
    "### Single Responsibility Principle (SRP)"
   ]
  },
  {
   "cell_type": "markdown",
   "metadata": {},
   "source": [
    "The Single Responsibility Principle (SRP) states that a class should have only one reason to change or, in other words, a single responsibility. It should focus on doing one thing and doing it well. This principle helps us to build better software by promoting organization, lower coupling, and easier testing."
   ]
  },
  {
   "cell_type": "markdown",
   "metadata": {},
   "source": [
    "### Open/Closed Principle (OCP)"
   ]
  },
  {
   "cell_type": "markdown",
   "metadata": {},
   "source": [
    "The Open/Closed Principle (OCP) encourages software entities (classes, modules, functions) to be open for extension but closed for modification. It means that you can add new features or behavior without altering existing code. This principle is crucial for maintaining the integrity of your codebase as you evolve your software."
   ]
  },
  {
   "cell_type": "markdown",
   "metadata": {},
   "source": [
    "### Liskov Substitution Principle (LSP)"
   ]
  },
  {
   "cell_type": "markdown",
   "metadata": {},
   "source": [
    "The Liskov Substitution Principle (LSP) states that objects of a derived class should be able to replace objects of the base class without affecting the correctness of the program. In other words, derived classes should be substitutable for their base classes. This principle ensures that your code is robust and can handle unexpected input or behavior."
   ]
  },
  {
   "cell_type": "markdown",
   "metadata": {},
   "source": [
    "### Interface Segregation Principle (ISP)"
   ]
  },
  {
   "cell_type": "markdown",
   "metadata": {},
   "source": [
    "The Interface Segregation Principle (ISP) suggests that a class should not be forced to implement interfaces or methods it does not use. It promotes the creation of small, specific interfaces rather than large, monolithic ones. This principle enhances the flexibility and maintainability of your code."
   ]
  },
  {
   "cell_type": "markdown",
   "metadata": {},
   "source": [
    "### Dependency Inversion Principle (DIP)"
   ]
  },
  {
   "cell_type": "markdown",
   "metadata": {},
   "source": [
    "The Dependency Inversion Principle (DIP) advocates depending on abstractions rather than concrete implementations. High-level modules should not depend on low-level modules; both should depend on abstractions. This principle improves the decoupling of software modules, making your code more modular and easier to test."
   ]
  },
  {
   "cell_type": "markdown",
   "metadata": {},
   "source": [
    "## Applying SOLID Principles in Python\n"
   ]
  },
  {
   "cell_type": "markdown",
   "metadata": {},
   "source": [
    "When creating classes in Python, following the SOLID principles can lead to more organized and maintainable code. Let's understand each SOLID rule and see how they work with Python examples.\n",
    "\n"
   ]
  },
  {
   "cell_type": "markdown",
   "metadata": {},
   "source": [
    "### Single-responsibility Principle (SRP)\n"
   ]
  },
  {
   "cell_type": "markdown",
   "metadata": {},
   "source": [
    "A class should have only one job. For example, consider a `Book` class that stores information about a book. It should only be responsible for storing and retrieving this information.\n",
    "\n",
    "```python\n",
    "class Book:\n",
    "    def __init__(self, title, author):\n",
    "        self.title = title\n",
    "        self.author = author\n",
    "\n",
    "    def get_title(self):\n",
    "        return self.title\n",
    "\n",
    "    def get_author(self):\n",
    "        return self.author\n",
    "\n",
    "```"
   ]
  },
  {
   "cell_type": "markdown",
   "metadata": {},
   "source": [
    "\n",
    "### Open/Closed Principle (OCP)\n"
   ]
  },
  {
   "cell_type": "markdown",
   "metadata": {},
   "source": [
    "You should be able to add new features without changing existing code. For instance, you might want to add a method to the `Book` class that prints the book's information. This can be done without modifying the existing `Book` class.\n",
    "\n",
    "```python\n",
    "class Book:\n",
    "    # ... existing code ...\n",
    "\n",
    "    def print_info(self):\n",
    "        print(f\"Title: {self.title}, Author: {self.author}\")\n",
    "\n",
    "\n",
    "```"
   ]
  },
  {
   "cell_type": "markdown",
   "metadata": {},
   "source": [
    "### Liskov Substitution Principle (LSP)"
   ]
  },
  {
   "cell_type": "markdown",
   "metadata": {},
   "source": [
    "Consider a base class `Animal` and a derived class `Dog`. The `Dog` class should be able to replace the `Animal` class without affecting the correctness of the program.\n",
    "\n",
    "```python\n",
    "class Animal:\n",
    "    def speak(self):\n",
    "        pass\n",
    "\n",
    "class Dog(Animal):\n",
    "    def speak(self):\n",
    "        return \"Woof!\"\n",
    "\n",
    "\n",
    "```\n",
    "\n",
    "\n",
    "In this example, a  `Dog` object can replace an `Animal` object without affecting the correctness of the program. If a function expects an `Animal` object and receives a `Dog` object, it will still work as expected because the `Dog` class correctly implements the `speak` method of the `Animal`` class"
   ]
  },
  {
   "cell_type": "markdown",
   "metadata": {},
   "source": [
    "### Interface Segregation Principle (ISP)\n"
   ]
  },
  {
   "cell_type": "markdown",
   "metadata": {},
   "source": [
    "Consider a `Teacher` interface with methods for teaching different subjects. Instead of forcing a teacher to implement all these methods, we can create separate interfaces for each subject.\n",
    "\n",
    "```python\n",
    "from abc import ABC, abstractmethod\n",
    "\n",
    "class EnglishTeacher(ABC):\n",
    "    @abstractmethod\n",
    "    def teach_english(self):\n",
    "        pass\n",
    "\n",
    "class MathTeacher(ABC):\n",
    "    @abstractmethod\n",
    "    def teach_math(self):\n",
    "        pass\n",
    "\n",
    "class Jane(EnglishTeacher):\n",
    "    def teach_english(self):\n",
    "        return \"Jane is teaching English.\"\n",
    "\n",
    "class John(MathTeacher):\n",
    "    def teach_math(self):\n",
    "        return \"John is teaching Math.\"\n",
    "\n",
    "```\n",
    "\n",
    "In this example, `Jane` can teach English without implementing the `teach_math` method, and `John` can teach Math without implementing the `teach_english` method. This way, we avoid forcing a class to implement methods it does not use "
   ]
  },
  {
   "cell_type": "markdown",
   "metadata": {},
   "source": [
    "### Dependency Inversion Principle (DIP)\n"
   ]
  },
  {
   "cell_type": "markdown",
   "metadata": {},
   "source": [
    "Consider a `Customer` class that depends on a `Bank` class. Instead of having the `Customer` class directly depend on the `Bank` class, we can introduce an `ATM` interface that both classes can interact with.\n",
    "\n",
    "```python\n",
    "from abc import ABC, abstractmethod\n",
    "\n",
    "class ATM(ABC):\n",
    "    @abstractmethod\n",
    "    def operation(self):\n",
    "        pass\n",
    "\n",
    "class Bank(ATM):\n",
    "    def operation(self):\n",
    "        return \"Adding money to ATM.\"\n",
    "\n",
    "class Customer(ATM):\n",
    "    def operation(self):\n",
    "        return \"Withdrawing money from ATM.\"\n",
    "\n",
    "\n",
    "\n",
    "```\n",
    "\n",
    "In this example, both the `Bank` and `Customer` classes depend on the `ATM` interface, not on each other. This way, we avoid having the `Customer` class directly depend on the `Bank` class, making our code more modular and easier to test"
   ]
  },
  {
   "cell_type": "markdown",
   "metadata": {},
   "source": []
  }
 ],
 "metadata": {
  "language_info": {
   "name": "python"
  }
 },
 "nbformat": 4,
 "nbformat_minor": 2
}

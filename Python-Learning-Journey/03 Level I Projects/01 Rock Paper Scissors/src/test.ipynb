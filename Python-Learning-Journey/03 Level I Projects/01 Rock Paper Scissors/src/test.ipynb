{
 "cells": [
  {
   "cell_type": "markdown",
   "metadata": {},
   "source": [
    "steps:\n",
    "- get player choice\n",
    "- get computer choice\n",
    "- winer\n",
    "- print winner"
   ]
  },
  {
   "cell_type": "code",
   "execution_count": 1,
   "metadata": {},
   "outputs": [],
   "source": [
    "import random"
   ]
  },
  {
   "cell_type": "code",
   "execution_count": 8,
   "metadata": {},
   "outputs": [],
   "source": [
    "class RockPaperScissors:\n",
    "    def __init__(self):\n",
    "        self.option = ['rock', 'paper', 'scissor']\n",
    "\n",
    "    def player_choice(self):\n",
    "        player_choice = input(f'Enter your choice: {self.option}')\n",
    "        player_choice = player_choice.lower()\n",
    "\n",
    "        if player_choice in self.option:\n",
    "            return player_choice\n",
    "        \n",
    "        else:\n",
    "            print(f'I said choose one of these{self.option}!!!!')\n",
    "            self.player_choice()\n",
    "    \n",
    "    def computer_choice(self, ):\n",
    "        computer_choice = random.choice(self.option)\n",
    "        return computer_choice\n",
    "    \n",
    "    def winner(self, player_choice, computer_choice):\n",
    "        if player_choice == computer_choice:\n",
    "            return (\"Equal but not for Ever!! I'm comming soon\")\n",
    "        \n",
    "        elif(player_choice , computer_choice) == (('rock', 'paper') or ('paper', 'scissor') or ('scissor', 'rock')):\n",
    "            return(\"HAHA!!!!!! loser\")\n",
    "        \n",
    "        else:\n",
    "            return(\"You win. but just this time!\")\n",
    "    \n",
    "    def play(self, ):\n",
    "        user_choice_ = self.player_choice()\n",
    "        computer_Choice_ = self.computer_choice()\n",
    "        result = self.winner(user_choice_, computer_Choice_)\n",
    "        print(f'your choice: {user_choice_}')\n",
    "        print(f'my choice: {computer_Choice_}')\n",
    "        # print(result)\n",
    "        return result\n"
   ]
  },
  {
   "cell_type": "code",
   "execution_count": 9,
   "metadata": {},
   "outputs": [
    {
     "name": "stdout",
     "output_type": "stream",
     "text": [
      "your choice: rock\n",
      "my choice: paper\n"
     ]
    },
    {
     "data": {
      "text/plain": [
       "'HAHA!!!!!! loser'"
      ]
     },
     "execution_count": 9,
     "metadata": {},
     "output_type": "execute_result"
    }
   ],
   "source": [
    "game = RockPaperScissors()\n",
    "game.play()"
   ]
  },
  {
   "cell_type": "code",
   "execution_count": null,
   "metadata": {},
   "outputs": [],
   "source": []
  },
  {
   "cell_type": "code",
   "execution_count": null,
   "metadata": {},
   "outputs": [],
   "source": []
  }
 ],
 "metadata": {
  "kernelspec": {
   "display_name": "my_learning",
   "language": "python",
   "name": "python3"
  },
  "language_info": {
   "codemirror_mode": {
    "name": "ipython",
    "version": 3
   },
   "file_extension": ".py",
   "mimetype": "text/x-python",
   "name": "python",
   "nbconvert_exporter": "python",
   "pygments_lexer": "ipython3",
   "version": "3.11.4"
  }
 },
 "nbformat": 4,
 "nbformat_minor": 2
}

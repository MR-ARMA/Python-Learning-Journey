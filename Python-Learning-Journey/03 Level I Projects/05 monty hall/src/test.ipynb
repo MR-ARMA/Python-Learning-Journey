{
 "cells": [
  {
   "cell_type": "code",
   "execution_count": 183,
   "metadata": {},
   "outputs": [],
   "source": [
    "import random\n"
   ]
  },
  {
   "cell_type": "code",
   "execution_count": 184,
   "metadata": {},
   "outputs": [],
   "source": [
    "def door_choice(switch_):\n",
    "    choices = ['car', 'goat', 'goat']\n",
    "    random.shuffle(choices)\n",
    "\n",
    "    initial_choice = random.randint(0, 2)\n",
    "    show = random.choices([i for i in range(3) if i != initial_choice and choices[i] != 'car'])\n",
    "\n",
    "    if switch_:\n",
    "        last_choice = [i for i in range(3) if i != initial_choice and i != show[0]]\n",
    "    else:\n",
    "        last_choice = [initial_choice]\n",
    "    return choices[last_choice[0]] == 'car'"
   ]
  },
  {
   "cell_type": "code",
   "execution_count": 185,
   "metadata": {},
   "outputs": [],
   "source": [
    "def simiulate(number=10,):\n",
    "    list_with_swich = list()\n",
    "    for _ in range(number):\n",
    "        list_with_swich.append(door_choice(switch_=True))\n",
    "\n",
    "    list_not_swich = list()\n",
    "    for _ in range(number):\n",
    "        list_not_swich.append(door_choice(switch_=False))\n",
    "\n",
    "    count_win_with_switch = list_with_swich.count(True)\n",
    "    count_win_not_switch = list_not_swich.count(True)\n",
    "\n",
    "    return count_win_with_switch / number, count_win_not_switch /number"
   ]
  },
  {
   "cell_type": "code",
   "execution_count": 187,
   "metadata": {},
   "outputs": [],
   "source": [
    "is_switch, not_switch = simiulate(100)"
   ]
  }
 ],
 "metadata": {
  "kernelspec": {
   "display_name": "Python 3",
   "language": "python",
   "name": "python3"
  },
  "language_info": {
   "codemirror_mode": {
    "name": "ipython",
    "version": 3
   },
   "file_extension": ".py",
   "mimetype": "text/x-python",
   "name": "python",
   "nbconvert_exporter": "python",
   "pygments_lexer": "ipython3",
   "version": "3.10.6"
  }
 },
 "nbformat": 4,
 "nbformat_minor": 2
}

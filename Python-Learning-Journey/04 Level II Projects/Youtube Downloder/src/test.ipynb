{
 "cells": [
  {
   "cell_type": "code",
   "execution_count": 49,
   "metadata": {},
   "outputs": [],
   "source": [
    "from pytube import YouTube\n",
    "from pathlib import Path"
   ]
  },
  {
   "cell_type": "code",
   "execution_count": 87,
   "metadata": {},
   "outputs": [],
   "source": [
    "class YouTubeDownloader():\n",
    "    def __init__(self, url, quality = None, output_path = None):\n",
    "        self.quality = quality or 'highest'\n",
    "        self.url = url\n",
    "        self.yt = YouTube(url,\n",
    "                          on_progress_callback=self.on_progress,\n",
    "                          on_complete_callback=self.on_complete)\n",
    "        self.output_path = output_path or Path.cwd()\n",
    "        \n",
    "    def download(self):\n",
    "        \n",
    "        if self.quality == 'highest':\n",
    "            video_stream = self.yt.streams.filter(progressive=True, file_extension='mp4').get_highest_resolution()\n",
    "        else:\n",
    "            video_stream = self.yt.streams.filter(resolution=self.quality, progressive=True, file_extension='mp4').first()\n",
    "          \n",
    "        video_stream.download(output_path=self.output_path)\n",
    "\n",
    "    def on_progress(self, stream, chunk, byte_remaining):\n",
    "        total_size = stream.filesize\n",
    "        byte_downloaded = total_size - byte_remaining\n",
    "        print(f\"progress: {100*(byte_downloaded / total_size)}\")\n",
    "\n",
    "    def on_complete(self, stream, file_pass):\n",
    "        total_size = stream.filesize\n",
    "        print()\n",
    "        print(f\"Downloading is completed in this path:{self.output_path}\")\n",
    "        print(f\"size of file: {int(total_size / 1024 / 1024)}MB\")\n",
    "        "
   ]
  },
  {
   "cell_type": "code",
   "execution_count": 88,
   "metadata": {},
   "outputs": [],
   "source": [
    "test = YouTubeDownloader('https://www.youtube.com/shorts/pdOWKIDanE8')"
   ]
  },
  {
   "cell_type": "code",
   "execution_count": 89,
   "metadata": {},
   "outputs": [
    {
     "name": "stdout",
     "output_type": "stream",
     "text": [
      "\n",
      "Downloading is completed in this path:c:\\Users\\Mr\\Desktop\\programming\\Python-Learning-Journey\\Python-Learning-Journey\\04 Level II Projects\\Youtube Downloder\\src\n",
      "size of file: 7MB\n"
     ]
    }
   ],
   "source": [
    "test.download()"
   ]
  },
  {
   "cell_type": "code",
   "execution_count": null,
   "metadata": {},
   "outputs": [],
   "source": []
  },
  {
   "cell_type": "code",
   "execution_count": null,
   "metadata": {},
   "outputs": [],
   "source": []
  }
 ],
 "metadata": {
  "kernelspec": {
   "display_name": "base",
   "language": "python",
   "name": "python3"
  },
  "language_info": {
   "codemirror_mode": {
    "name": "ipython",
    "version": 3
   },
   "file_extension": ".py",
   "mimetype": "text/x-python",
   "name": "python",
   "nbconvert_exporter": "python",
   "pygments_lexer": "ipython3",
   "version": "3.11.5"
  }
 },
 "nbformat": 4,
 "nbformat_minor": 2
}

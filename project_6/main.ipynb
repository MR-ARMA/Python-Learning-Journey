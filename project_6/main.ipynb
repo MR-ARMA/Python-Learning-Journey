{
 "cells": [
  {
   "cell_type": "code",
   "execution_count": 31,
   "metadata": {},
   "outputs": [
    {
     "data": {
      "text/plain": [
       "8"
      ]
     },
     "execution_count": 31,
     "metadata": {},
     "output_type": "execute_result"
    }
   ],
   "source": [
    "import random"
   ]
  },
  {
   "cell_type": "code",
   "execution_count": null,
   "metadata": {},
   "outputs": [],
   "source": [
    "rand_int = random.randint(1, 100)\n",
    "rand_int"
   ]
  },
  {
   "cell_type": "code",
   "execution_count": 2,
   "metadata": {},
   "outputs": [
    {
     "name": "stdout",
     "output_type": "stream",
     "text": [
      " \n",
      "Computer considers an integer number between [1, 100] and you must guess this number.\n",
      "Rules:\n",
      "      Your guess must be integer number and if not, you loss 5 point\n",
      "      Your guess must be between 1 and 100 and if not, you loss 2 point\n",
      "      For each your guess that is not equall with number, you loss 1 point\n",
      "\n"
     ]
    }
   ],
   "source": [
    "print(''' \n",
    "Computer considers an integer number between [1, 100] and you must guess this number.\n",
    "Rules:\n",
    "      Your guess must be integer number and if not, you loss 5 point\n",
    "      Your guess must be between 1 and 100 and if not, you loss 2 point\n",
    "      For each your guess that is not equall with number, you loss 1 point\n",
    "''')"
   ]
  },
  {
   "cell_type": "code",
   "execution_count": 24,
   "metadata": {},
   "outputs": [],
   "source": [
    "score = 100"
   ]
  },
  {
   "cell_type": "code",
   "execution_count": 29,
   "metadata": {},
   "outputs": [
    {
     "name": "stdout",
     "output_type": "stream",
     "text": [
      "Your input not Valid\n",
      "Your input not Valid\n",
      "Your input not Valid\n",
      "congratulations!!!! You guessed it right\n",
      "your score is: 85\n"
     ]
    }
   ],
   "source": [
    "while True:\n",
    "    user_num = input(\"Enter your guess: \")\n",
    "\n",
    "    if not user_num.isdigit():\n",
    "        score -= 5\n",
    "        print(\"Your input not Valid\")\n",
    "        continue\n",
    "\n",
    "    user_num = int(user_num)\n",
    "\n",
    "    if (user_num > 100 or user_num < 1):\n",
    "        print(\"The number is between 1 and 100!\")\n",
    "        score -= 2\n",
    "\n",
    "    if user_num > rand_int:\n",
    "        print(\"You guess is higher \")\n",
    "        score -= 1\n",
    "        continue\n",
    "    elif user_num < rand_int:\n",
    "        print(\"You guess is lower \")\n",
    "        score -= 1\n",
    "        continue\n",
    "    elif user_num == rand_int:\n",
    "        print(\"congratulations!!!! You guessed it right\")\n",
    "        print(f'your score is: {score}')\n",
    "        break\n",
    "\n"
   ]
  },
  {
   "cell_type": "code",
   "execution_count": 30,
   "metadata": {},
   "outputs": [
    {
     "name": "stdout",
     "output_type": "stream",
     "text": [
      "Very Good!\n"
     ]
    }
   ],
   "source": [
    "if score == 100:\n",
    "    print(\"Dirty Lucky!!!!\")\n",
    "elif 50 <= score < 100:\n",
    "    print(\"Very Good!\")\n",
    "elif 0 < score < 50:\n",
    "    print(\"Ok thats good!\")\n",
    "elif score <= 0:\n",
    "    print(\"You are nothing more than a fool\")"
   ]
  },
  {
   "cell_type": "code",
   "execution_count": null,
   "metadata": {},
   "outputs": [],
   "source": []
  }
 ],
 "metadata": {
  "kernelspec": {
   "display_name": "PBP",
   "language": "python",
   "name": "python3"
  },
  "language_info": {
   "codemirror_mode": {
    "name": "ipython",
    "version": 3
   },
   "file_extension": ".py",
   "mimetype": "text/x-python",
   "name": "python",
   "nbconvert_exporter": "python",
   "pygments_lexer": "ipython3",
   "version": "3.11.4"
  },
  "orig_nbformat": 4
 },
 "nbformat": 4,
 "nbformat_minor": 2
}
